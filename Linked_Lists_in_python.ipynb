{
 "cells": [
  {
   "cell_type": "markdown",
   "metadata": {},
   "source": [
    "# Linked Lists in Python\n",
    "#### by Andrew Rothman"
   ]
  },
  {
   "cell_type": "markdown",
   "metadata": {},
   "source": [
    "## Problem 1 \n",
    "create a singly linked list with values 12 -> 99 -> 37, and traverse the list"
   ]
  },
  {
   "cell_type": "code",
   "execution_count": 17,
   "metadata": {},
   "outputs": [],
   "source": [
    "class S_Node:\n",
    "    def __init__(self, val):\n",
    "        self.val = val\n",
    "        self.next = None ## the pointer is initially not pointing to anything\n",
    "\n",
    "    def traverse(self):\n",
    "        current_node = self\n",
    "        while(current_node != None):\n",
    "            print(current_node.val)\n",
    "            current_node = current_node.next"
   ]
  },
  {
   "cell_type": "code",
   "execution_count": 18,
   "metadata": {},
   "outputs": [
    {
     "name": "stdout",
     "output_type": "stream",
     "text": [
      "12\n",
      "99\n",
      "37\n"
     ]
    }
   ],
   "source": [
    "node1 = S_Node(12)\n",
    "node2 = S_Node(99)\n",
    "node3 = S_Node(37)\n",
    "node1.next = node2\n",
    "node2.next = node3\n",
    "node1.traverse()"
   ]
  },
  {
   "cell_type": "markdown",
   "metadata": {},
   "source": [
    "## Problem 2\n",
    "create a singly linked list with values 12 -> 99 -> 37 -> 12 -> 37 -> 11 -> 5 -> 99, and remove duplicates"
   ]
  },
  {
   "cell_type": "code",
   "execution_count": 19,
   "metadata": {},
   "outputs": [],
   "source": [
    "class S_Node:\n",
    "    def __init__(self, val):\n",
    "        self.val = val\n",
    "        self.next = None ## the pointer is initially not pointing to anything\n",
    "\n",
    "    def traverse(self):\n",
    "        current_node = self\n",
    "        while(current_node != None):\n",
    "            print(current_node.val)\n",
    "            current_node = current_node.next\n",
    "    \n",
    "    def remove_duplicates(self):\n",
    "        already_seen = [self.val]\n",
    "        current_node = self\n",
    "        next_node = current_node.next\n",
    "        while(next_node != None):\n",
    "            if(next_node.val not in already_seen):\n",
    "                already_seen.append(next_node.val)\n",
    "                current_node = next_node\n",
    "                next_node = current_node.next\n",
    "            else:\n",
    "                current_node.next = next_node.next\n",
    "                next_node = current_node.next"
   ]
  },
  {
   "cell_type": "code",
   "execution_count": 20,
   "metadata": {},
   "outputs": [
    {
     "name": "stdout",
     "output_type": "stream",
     "text": [
      "12\n",
      "99\n",
      "37\n",
      "12\n",
      "37\n",
      "11\n",
      "5\n",
      "99\n"
     ]
    }
   ],
   "source": [
    "node1 = S_Node(12)\n",
    "node2 = S_Node(99)\n",
    "node3 = S_Node(37)\n",
    "node4 = S_Node(12)\n",
    "node5 = S_Node(37)\n",
    "node6 = S_Node(11)\n",
    "node7 = S_Node(5)\n",
    "node8 = S_Node(99)\n",
    "node1.next = node2\n",
    "node2.next = node3\n",
    "node3.next = node4\n",
    "node4.next = node5\n",
    "node5.next = node6\n",
    "node6.next = node7\n",
    "node7.next = node8\n",
    "node1.traverse()"
   ]
  },
  {
   "cell_type": "code",
   "execution_count": 21,
   "metadata": {},
   "outputs": [
    {
     "name": "stdout",
     "output_type": "stream",
     "text": [
      "12\n",
      "99\n",
      "37\n",
      "11\n",
      "5\n"
     ]
    }
   ],
   "source": [
    "node1.remove_duplicates()\n",
    "node1.traverse()"
   ]
  },
  {
   "cell_type": "markdown",
   "metadata": {},
   "source": [
    "## Problem 3\n",
    "create a doubly linked list with values 12, 99, 37, 12, 37, 11, 5, 99\n",
    ", delete nodes 2 and 8 from the doubly linked list"
   ]
  },
  {
   "cell_type": "code",
   "execution_count": 22,
   "metadata": {},
   "outputs": [],
   "source": [
    "class D_Node:\n",
    "    def __init__(self, val):\n",
    "        self.val = val\n",
    "        self.next = None ## the next pointer is initially not pointing to anything\n",
    "        self.previous = None ## the previous pointer is initially not pointing to anything\n",
    "\n",
    "    def traverse(self):\n",
    "        current_node = self\n",
    "        while(current_node != None):\n",
    "            print(current_node.val)\n",
    "            current_node = current_node.next\n",
    "    \n",
    "    def remove_duplicates(self):\n",
    "        already_seen = [self.val]\n",
    "        current_node = self\n",
    "        next_node = current_node.next\n",
    "        while(next_node != None):\n",
    "            if(next_node.val not in already_seen):\n",
    "                already_seen.append(next_node.val)\n",
    "                current_node = next_node\n",
    "                next_node = current_node.next\n",
    "            else:\n",
    "                current_node.next = next_node.next\n",
    "                next_node = current_node.next\n",
    "                if(next_node != None):\n",
    "                    next_node.previous = current_node\n",
    "    \n",
    "    def delete_node(self):\n",
    "        current_node = self\n",
    "        if(current_node.next != None):\n",
    "            next_node = current_node.next\n",
    "            next_node.previous = current_node.previous\n",
    "        if(current_node.previous != None):\n",
    "            previous_node = current_node.previous\n",
    "            previous_node.next = current_node.next"
   ]
  },
  {
   "cell_type": "code",
   "execution_count": 23,
   "metadata": {},
   "outputs": [],
   "source": [
    "node1 = D_Node(12)\n",
    "node2 = D_Node(99)\n",
    "node3 = D_Node(37)\n",
    "node4 = D_Node(12)\n",
    "node5 = D_Node(37)\n",
    "node6 = D_Node(11)\n",
    "node7 = D_Node(5)\n",
    "node8 = D_Node(99)\n",
    "\n",
    "node1.next = node2\n",
    "node2.next = node3\n",
    "node3.next = node4\n",
    "node4.next = node5\n",
    "node5.next = node6\n",
    "node6.next = node7\n",
    "node7.next = node8\n",
    "\n",
    "node2.previous = node1\n",
    "node3.previous = node2\n",
    "node4.previous = node3\n",
    "node5.previous = node4\n",
    "node6.previous = node5\n",
    "node7.previous = node6\n",
    "node8.previous = node7"
   ]
  },
  {
   "cell_type": "code",
   "execution_count": 24,
   "metadata": {},
   "outputs": [
    {
     "name": "stdout",
     "output_type": "stream",
     "text": [
      "12\n",
      "99\n",
      "37\n",
      "12\n",
      "37\n",
      "11\n",
      "5\n",
      "99\n"
     ]
    }
   ],
   "source": [
    "node1.traverse()"
   ]
  },
  {
   "cell_type": "code",
   "execution_count": 25,
   "metadata": {},
   "outputs": [
    {
     "name": "stdout",
     "output_type": "stream",
     "text": [
      "12\n",
      "37\n",
      "12\n",
      "37\n",
      "11\n",
      "5\n",
      "99\n"
     ]
    }
   ],
   "source": [
    "node2.delete_node()\n",
    "node1.traverse()"
   ]
  },
  {
   "cell_type": "code",
   "execution_count": 26,
   "metadata": {},
   "outputs": [
    {
     "name": "stdout",
     "output_type": "stream",
     "text": [
      "12\n",
      "37\n",
      "12\n",
      "37\n",
      "11\n",
      "5\n"
     ]
    }
   ],
   "source": [
    "node8.delete_node()\n",
    "node1.traverse()"
   ]
  }
 ],
 "metadata": {
  "kernelspec": {
   "display_name": "Python 3",
   "language": "python",
   "name": "python3"
  },
  "language_info": {
   "codemirror_mode": {
    "name": "ipython",
    "version": 3
   },
   "file_extension": ".py",
   "mimetype": "text/x-python",
   "name": "python",
   "nbconvert_exporter": "python",
   "pygments_lexer": "ipython3",
   "version": "3.5.5"
  }
 },
 "nbformat": 4,
 "nbformat_minor": 2
}
