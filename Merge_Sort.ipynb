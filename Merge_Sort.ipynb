{
 "cells": [
  {
   "cell_type": "markdown",
   "metadata": {},
   "source": [
    "# Merge Sort Algorithm\n",
    "#### by Andrew Rothman"
   ]
  },
  {
   "cell_type": "code",
   "execution_count": 2,
   "metadata": {},
   "outputs": [],
   "source": [
    "def merge_sort(X):\n",
    "    \n",
    "    if(len(X)==1):\n",
    "        return(X)\n",
    "        \n",
    "    if(len(X)==2):\n",
    "        if(X[0]>X[1]):\n",
    "            X[0], X[1] = X[1], X[0]\n",
    "        return(X)\n",
    "    \n",
    "    if(len(X)>2):\n",
    "        Left = merge_sort(X[0:len(X)//2])\n",
    "        Right = merge_sort(X[len(X)//2:len(X)])\n",
    "        X_sorted = len(X)*[None]\n",
    "        \n",
    "        L_count=0\n",
    "        R_count=0\n",
    "        for i in range(0, len(X_sorted)):\n",
    "            if(L_count==len(Left)):\n",
    "                X_sorted[i:len(X_sorted)] = Right[R_count:len(Right)]\n",
    "                break\n",
    "            else:\n",
    "                if(R_count==len(Right)):\n",
    "                    X_sorted[i:len(X_sorted)] = Left[L_count:len(Left)]\n",
    "                    break\n",
    "                else:\n",
    "                    if(Left[L_count] < Right[R_count]):\n",
    "                        X_sorted[i] = Left[L_count]\n",
    "                        L_count = L_count+1\n",
    "                    else:\n",
    "                        X_sorted[i] = Right[R_count]\n",
    "                        R_count = R_count+1\n",
    "        \n",
    "        return(X_sorted)"
   ]
  },
  {
   "cell_type": "code",
   "execution_count": 3,
   "metadata": {},
   "outputs": [
    {
     "data": {
      "text/plain": [
       "[-65, -2.5, -1, 0, 0, 2, 2.4, 3, 5, 5, 10]"
      ]
     },
     "execution_count": 3,
     "metadata": {},
     "output_type": "execute_result"
    }
   ],
   "source": [
    "X_test_1 = [2,5,3, 0, -1,5,2.4, -65, -2.5, 0, 10]\n",
    "merge_sort(X_test_1)"
   ]
  },
  {
   "cell_type": "code",
   "execution_count": 4,
   "metadata": {},
   "outputs": [
    {
     "data": {
      "text/plain": [
       "[-9, -8, -7, -6, -5, -4, -3, -2, -1, 0, 1, 2, 3, 4, 5]"
      ]
     },
     "execution_count": 4,
     "metadata": {},
     "output_type": "execute_result"
    }
   ],
   "source": [
    "X_test_2 = list(range(5,-10,-1))\n",
    "merge_sort(X_test_2)"
   ]
  },
  {
   "cell_type": "code",
   "execution_count": null,
   "metadata": {},
   "outputs": [],
   "source": []
  }
 ],
 "metadata": {
  "kernelspec": {
   "display_name": "Python 3",
   "language": "python",
   "name": "python3"
  },
  "language_info": {
   "codemirror_mode": {
    "name": "ipython",
    "version": 3
   },
   "file_extension": ".py",
   "mimetype": "text/x-python",
   "name": "python",
   "nbconvert_exporter": "python",
   "pygments_lexer": "ipython3",
   "version": "3.5.5"
  }
 },
 "nbformat": 4,
 "nbformat_minor": 2
}
