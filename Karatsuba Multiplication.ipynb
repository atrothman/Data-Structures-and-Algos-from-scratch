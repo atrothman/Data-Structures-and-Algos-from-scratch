{
 "cells": [
  {
   "cell_type": "markdown",
   "metadata": {},
   "source": [
    "# Karatsuba Multiplication\n",
    "#### by Andrew Rothman"
   ]
  },
  {
   "cell_type": "code",
   "execution_count": 1,
   "metadata": {},
   "outputs": [],
   "source": [
    "import math\n",
    "\n",
    "def Karatsuba_mult(X, Y):\n",
    "        \n",
    "    x_s = str(X)\n",
    "    n = len(x_s)\n",
    "    y_s = str(Y)\n",
    "    m = len(y_s)\n",
    "    \n",
    "    if(n==1 or m==1):\n",
    "        return(X*Y)\n",
    "    else:\n",
    "        A = int(x_s[0:math.floor(n/2)])        \n",
    "        B = int(x_s[math.floor(n/2):n])\n",
    "        C = int(y_s[0:math.floor(m/2)])        \n",
    "        D = int(y_s[math.floor(m/2):m])\n",
    "\n",
    "        AC = Karatsuba_mult(A,C)\n",
    "        AD = Karatsuba_mult(A,D)\n",
    "        BC = Karatsuba_mult(B,C)\n",
    "        BD = Karatsuba_mult(B,D)\n",
    "    \n",
    "        X_times_Y = (10**(math.ceil(n/2)+math.ceil(m/2))*AC) + 10**(math.ceil(n/2))*AD + 10**(math.ceil(m/2))*BC + BD\n",
    "                          \n",
    "        return(X_times_Y)"
   ]
  },
  {
   "cell_type": "code",
   "execution_count": 2,
   "metadata": {},
   "outputs": [
    {
     "data": {
      "text/plain": [
       "838213155"
      ]
     },
     "execution_count": 2,
     "metadata": {},
     "output_type": "execute_result"
    }
   ],
   "source": [
    "####################\n",
    "####################\n",
    "X = 12345\n",
    "Y = 67899\n",
    "Karatsuba_mult(X, Y)"
   ]
  },
  {
   "cell_type": "code",
   "execution_count": 3,
   "metadata": {},
   "outputs": [
    {
     "data": {
      "text/plain": [
       "838213155"
      ]
     },
     "execution_count": 3,
     "metadata": {},
     "output_type": "execute_result"
    }
   ],
   "source": [
    "X*Y"
   ]
  }
 ],
 "metadata": {
  "kernelspec": {
   "display_name": "Python 3",
   "language": "python",
   "name": "python3"
  },
  "language_info": {
   "codemirror_mode": {
    "name": "ipython",
    "version": 3
   },
   "file_extension": ".py",
   "mimetype": "text/x-python",
   "name": "python",
   "nbconvert_exporter": "python",
   "pygments_lexer": "ipython3",
   "version": "3.5.5"
  }
 },
 "nbformat": 4,
 "nbformat_minor": 2
}
