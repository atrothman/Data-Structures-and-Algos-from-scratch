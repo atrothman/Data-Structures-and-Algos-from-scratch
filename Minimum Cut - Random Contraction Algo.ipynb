{
 "cells": [
  {
   "cell_type": "markdown",
   "metadata": {},
   "source": [
    "# Minimum Cut - Random Contraction Algo\n",
    "#### by Andrew Rothman"
   ]
  },
  {
   "cell_type": "code",
   "execution_count": 1,
   "metadata": {},
   "outputs": [],
   "source": [
    "def random_contraction(G):\n",
    "    num_nodes = set(list(G['node1']) + list(G['node2']))\n",
    "    while(len(num_nodes)>2):\n",
    "        random_edge = G['edges'][np.asscalar(np.random.randint(len(G['edges']), size=1))]  \n",
    "        n1 = int(G.loc[G['edges']==random_edge, 'node1'])\n",
    "        n2 = int(G.loc[G['edges']==random_edge, 'node2'])\n",
    "    \n",
    "        G.loc[G['node1']==n1, 'node1'] = n2\n",
    "        G.loc[G['node2']==n1, 'node2'] = n2\n",
    "        G.drop(G.loc[G['node1']==G['node2']].index, inplace=True)\n",
    "        G.reset_index(drop=True, inplace=True)\n",
    "    \n",
    "        num_nodes = set(list(G['node1']) + list(G['node2']))\n",
    "    \n",
    "        del random_edge, n1, n2\n",
    "        \n",
    "    return(set(G['edges']))"
   ]
  },
  {
   "cell_type": "code",
   "execution_count": 2,
   "metadata": {},
   "outputs": [],
   "source": [
    "import pandas as pd\n",
    "import numpy as np\n",
    "np.random.seed(10815657)\n",
    "\n",
    "G = pd.DataFrame()\n",
    "G['edges'] = ['a', 'b', 'c', 'd', 'e']\n",
    "G['node1'] = [1, 1, 3, 3, 2]\n",
    "G['node2'] = [3, 2, 2, 4, 4]\n",
    "iterations = 1000\n",
    "min_edges = len(G['edges'])\n",
    "min_cut_D = {}\n",
    "for i in range(0, iterations):\n",
    "    trial = random_contraction(G.copy())\n",
    "    possible_key = str(trial)\n",
    "    if(len(trial)<=min_edges):\n",
    "        if(len(trial)<min_edges):\n",
    "            min_cut_D = {}\n",
    "        min_edges = len(trial)\n",
    "        if(possible_key not in min_cut_D.keys()):    \n",
    "            min_cut_D[possible_key] = len(trial)"
   ]
  },
  {
   "cell_type": "code",
   "execution_count": 3,
   "metadata": {},
   "outputs": [
    {
     "name": "stdout",
     "output_type": "stream",
     "text": [
      "dict_keys([\"{'b', 'a'}\", \"{'e', 'd'}\"])\n"
     ]
    }
   ],
   "source": [
    "print(min_cut_D.keys())"
   ]
  }
 ],
 "metadata": {
  "kernelspec": {
   "display_name": "Python 3",
   "language": "python",
   "name": "python3"
  },
  "language_info": {
   "codemirror_mode": {
    "name": "ipython",
    "version": 3
   },
   "file_extension": ".py",
   "mimetype": "text/x-python",
   "name": "python",
   "nbconvert_exporter": "python",
   "pygments_lexer": "ipython3",
   "version": "3.5.5"
  }
 },
 "nbformat": 4,
 "nbformat_minor": 2
}
