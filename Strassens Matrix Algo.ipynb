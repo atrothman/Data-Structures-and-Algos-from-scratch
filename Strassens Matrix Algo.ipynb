{
 "cells": [
  {
   "cell_type": "markdown",
   "metadata": {},
   "source": [
    "# Strassens Matrix Algo\n",
    "#### by Andrew Rothman"
   ]
  },
  {
   "cell_type": "code",
   "execution_count": 1,
   "metadata": {},
   "outputs": [],
   "source": [
    "import numpy as np\n",
    "\n",
    "def Strassens_Matrix(X, Y):\n",
    "    p = X.shape[0]\n",
    "    \n",
    "    if(p==2):\n",
    "        return(np.dot(X, Y))\n",
    "    else:\n",
    "        A = X[0:int(p/2), 0:int(p/2)]\n",
    "        B = X[0:int(p/2), int(p/2):p]\n",
    "        C = X[int(p/2):p, 0:int(p/2)]\n",
    "        D = X[int(p/2):p, int(p/2):p]\n",
    "    \n",
    "        E = Y[0:int(p/2), 0:int(p/2)]\n",
    "        F = Y[0:int(p/2), int(p/2):p]\n",
    "        G = Y[int(p/2):p, 0:int(p/2)]\n",
    "        H = Y[int(p/2):p, int(p/2):p]\n",
    "\n",
    "        P1 = Strassens_Matrix(A, (F-H))\n",
    "        P2 = Strassens_Matrix((A+B), H)\n",
    "        P3 = Strassens_Matrix((C+D), E)\n",
    "        P4 = Strassens_Matrix(D, (G-E))\n",
    "        P5 = Strassens_Matrix((A+D), (E+H))\n",
    "        P6 = Strassens_Matrix((B-D), (G+H))\n",
    "        P7 = Strassens_Matrix((A-C), (E+F))\n",
    "\n",
    "        product = np.full((p, p), None)\n",
    "        product[0:int(p/2), 0:int(p/2)] = P5+P4-P2+P6\n",
    "        product[0:int(p/2), int(p/2):p] = P1+P2\n",
    "        product[int(p/2):p, 0:int(p/2)] = P3+P4\n",
    "        product[int(p/2):p, int(p/2):p] = P1-P5-P3-P7\n",
    "\n",
    "        return(product)"
   ]
  },
  {
   "cell_type": "code",
   "execution_count": 2,
   "metadata": {},
   "outputs": [
    {
     "data": {
      "text/plain": [
       "array([[18.472914265305384, 7.094626405342954, -5.547162473048456,\n",
       "        5.452767690515216],\n",
       "       [-8.22707286838673, 19.546846854814362, 18.461210641391432,\n",
       "        -11.494046622647245],\n",
       "       [11.626451021765938, -8.51933931442769, -90.56233794063805,\n",
       "        82.17447348332433],\n",
       "       [27.47825711952806, -41.002792509270996, 35.728154356305325,\n",
       "        -30.83525769373545]], dtype=object)"
      ]
     },
     "execution_count": 2,
     "metadata": {},
     "output_type": "execute_result"
    }
   ],
   "source": [
    "np.random.seed(123456)\n",
    "p=4\n",
    "X = np.random.uniform(low=-5, high=5, size=p*p).reshape(p,p)\n",
    "Y = np.random.uniform(low=-5, high=5, size=p*p).reshape(p,p)\n",
    "product = Strassens_Matrix(X, Y)\n",
    "product"
   ]
  },
  {
   "cell_type": "code",
   "execution_count": 3,
   "metadata": {},
   "outputs": [
    {
     "data": {
      "text/plain": [
       "array([[ 18.47291427,   7.09462641,  -5.54716247,   5.45276769],\n",
       "       [ -8.22707287,  19.54684685,  18.46121064, -11.49404662],\n",
       "       [ 11.62645102,  -8.51933931,  -8.42456604,  19.68467991],\n",
       "       [ 27.47825712, -41.00279251, -19.55363074,  15.34478539]])"
      ]
     },
     "execution_count": 3,
     "metadata": {},
     "output_type": "execute_result"
    }
   ],
   "source": [
    "np.dot(X,Y)"
   ]
  },
  {
   "cell_type": "code",
   "execution_count": null,
   "metadata": {},
   "outputs": [],
   "source": []
  }
 ],
 "metadata": {
  "kernelspec": {
   "display_name": "Python 3",
   "language": "python",
   "name": "python3"
  },
  "language_info": {
   "codemirror_mode": {
    "name": "ipython",
    "version": 3
   },
   "file_extension": ".py",
   "mimetype": "text/x-python",
   "name": "python",
   "nbconvert_exporter": "python",
   "pygments_lexer": "ipython3",
   "version": "3.5.5"
  }
 },
 "nbformat": 4,
 "nbformat_minor": 2
}
