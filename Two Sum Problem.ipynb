{
 "cells": [
  {
   "cell_type": "markdown",
   "metadata": {},
   "source": [
    "# Two-Sum Problem\n",
    "#### by Andrew Rothman"
   ]
  },
  {
   "cell_type": "code",
   "execution_count": 2,
   "metadata": {},
   "outputs": [],
   "source": [
    "def Two_sum(X, target):\n",
    "    already_seen = {}\n",
    "    for i in range(0,len(X)):\n",
    "        if(X[i] in already_seen.keys()):\n",
    "            print(\"The numbers \" + str(X[i]) + \" and \" + str(already_seen[X[i]]) + \" sum to \" + str(target))\n",
    "        else:\n",
    "            difference = target - X[i]\n",
    "            already_seen[difference] = X[i]"
   ]
  },
  {
   "cell_type": "code",
   "execution_count": 3,
   "metadata": {},
   "outputs": [
    {
     "name": "stdout",
     "output_type": "stream",
     "text": [
      "The numbers 6 and 3 sum to 9\n",
      "The numbers 8 and 1 sum to 9\n"
     ]
    }
   ],
   "source": [
    "X_test_1 = [1, 2, 2, 3, 3, 6, 8, 10]\n",
    "Two_sum(X_test_1, target=9)"
   ]
  }
 ],
 "metadata": {
  "kernelspec": {
   "display_name": "Python 3",
   "language": "python",
   "name": "python3"
  },
  "language_info": {
   "codemirror_mode": {
    "name": "ipython",
    "version": 3
   },
   "file_extension": ".py",
   "mimetype": "text/x-python",
   "name": "python",
   "nbconvert_exporter": "python",
   "pygments_lexer": "ipython3",
   "version": "3.5.5"
  }
 },
 "nbformat": 4,
 "nbformat_minor": 2
}
