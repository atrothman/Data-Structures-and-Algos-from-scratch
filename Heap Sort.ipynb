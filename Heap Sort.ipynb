{
 "cells": [
  {
   "cell_type": "markdown",
   "metadata": {},
   "source": [
    "# Heap Sort Algorithm\n",
    "#### by Andrew Rothman"
   ]
  },
  {
   "cell_type": "code",
   "execution_count": 3,
   "metadata": {},
   "outputs": [],
   "source": [
    "import math\n",
    "\n",
    "class min_Heap:\n",
    "    \n",
    "    def __init__(self):\n",
    "        self.array = []\n",
    "        \n",
    "    def insert(self, val):\n",
    "        if (len(self.array)==0):\n",
    "            self.array.append(val)\n",
    "        else:\n",
    "            self.array.append(val)\n",
    "            i = len(self.array)\n",
    "            while(i != 1):\n",
    "                if(self.array[i-1] < self.array[math.floor(i/2)-1]):\n",
    "                    self.array[i-1], self.array[math.floor(i/2)-1] = self.array[math.floor(i/2)-1], self.array[i-1]\n",
    "                    i = math.floor(i/2)\n",
    "                else:\n",
    "                    break\n",
    "    \n",
    "    def remove(self):\n",
    "        if (len(self.array)==0):\n",
    "            print('the heap is currently empty')\n",
    "        else:\n",
    "            removed_value = self.array[0]\n",
    "            self.array[0] = self.array[len(self.array)-1]\n",
    "            self.array = self.array[0:len(self.array)-1]\n",
    "            i=1\n",
    "            while(i*2 <= len(self.array)):\n",
    "                if(i*2==len(self.array)):\n",
    "                    if(self.array[i-1]>self.array[(i*2)-1]):\n",
    "                        self.array[i-1], self.array[(i*2)-1] = self.array[(i*2)-1], self.array[i-1]\n",
    "                    else:\n",
    "                        break\n",
    "                else:\n",
    "                    if(self.array[i-1]>self.array[(i*2)-1] or self.array[i-1]>self.array[(i*2)]):\n",
    "                        if(self.array[(i*2)-1]<=self.array[(i*2)]):\n",
    "                            self.array[i-1], self.array[(i*2)-1] = self.array[(i*2)-1], self.array[i-1]\n",
    "                            i = i*2\n",
    "                        else:\n",
    "                            self.array[i-1], self.array[(i*2)] = self.array[(i*2)], self.array[i-1]\n",
    "                            i = (i*2)+1\n",
    "                    else:\n",
    "                        break\n",
    "            return(removed_value)"
   ]
  },
  {
   "cell_type": "code",
   "execution_count": 4,
   "metadata": {},
   "outputs": [],
   "source": [
    "###############\n",
    "## Heap Sort ##\n",
    "###############\n",
    "X_test = [2, 5, 3, 0, -1, 5, 2.4, -65, -2.5, 0, 10]\n",
    "X_sorted = []\n",
    "Heap_array = min_Heap()"
   ]
  },
  {
   "cell_type": "code",
   "execution_count": 5,
   "metadata": {},
   "outputs": [
    {
     "name": "stdout",
     "output_type": "stream",
     "text": [
      "[-65, -2.5, 2.4, -1, 0, 5, 3, 5, 0, 2, 10]\n"
     ]
    }
   ],
   "source": [
    "for i in range(0,len(X_test)):\n",
    "    Heap_array.insert(X_test[i])\n",
    "\n",
    "print(Heap_array.array)"
   ]
  },
  {
   "cell_type": "code",
   "execution_count": 6,
   "metadata": {},
   "outputs": [
    {
     "name": "stdout",
     "output_type": "stream",
     "text": [
      "[-65, -2.5, -1, 0, 0, 2, 2.4, 3, 5, 5, 10]\n"
     ]
    }
   ],
   "source": [
    "for i in range(0,len(Heap_array.array)):\n",
    "    X_sorted.append(Heap_array.remove())\n",
    "\n",
    "print(X_sorted)"
   ]
  }
 ],
 "metadata": {
  "kernelspec": {
   "display_name": "Python 3",
   "language": "python",
   "name": "python3"
  },
  "language_info": {
   "codemirror_mode": {
    "name": "ipython",
    "version": 3
   },
   "file_extension": ".py",
   "mimetype": "text/x-python",
   "name": "python",
   "nbconvert_exporter": "python",
   "pygments_lexer": "ipython3",
   "version": "3.5.5"
  }
 },
 "nbformat": 4,
 "nbformat_minor": 2
}
