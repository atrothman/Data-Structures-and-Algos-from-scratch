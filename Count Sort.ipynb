{
 "cells": [
  {
   "cell_type": "markdown",
   "metadata": {},
   "source": [
    "# Count Sort Algorithm\n",
    "#### by Andrew Rothman"
   ]
  },
  {
   "cell_type": "code",
   "execution_count": 3,
   "metadata": {},
   "outputs": [],
   "source": [
    "def count_sort(X, max_num):\n",
    "    \n",
    "    X_compressed = (max_num+1)*[0]\n",
    "    \n",
    "    for i in range(0, len(X)):\n",
    "        X_compressed[X[i]] = X_compressed[X[i]]+1\n",
    "        \n",
    "    X_sorted = []\n",
    "    for i in range(0, len(X_compressed)):\n",
    "        if(X_compressed[i] > 0):\n",
    "            X_sorted = X_sorted + X_compressed[i]*[i]\n",
    "    \n",
    "    return(X_sorted)"
   ]
  },
  {
   "cell_type": "code",
   "execution_count": 4,
   "metadata": {},
   "outputs": [
    {
     "data": {
      "text/plain": [
       "[0, 0, 0, 1, 1, 1, 1, 2, 2, 3, 5, 6, 9, 23, 34, 34, 34]"
      ]
     },
     "execution_count": 4,
     "metadata": {},
     "output_type": "execute_result"
    }
   ],
   "source": [
    "X_test_1 = [3,6,1,2,2,1,0,0,9,5,34,1,23,34,34,1,0]\n",
    "max_num = 34\n",
    "count_sort(X_test_1, max_num)"
   ]
  }
 ],
 "metadata": {
  "kernelspec": {
   "display_name": "Python 3",
   "language": "python",
   "name": "python3"
  },
  "language_info": {
   "codemirror_mode": {
    "name": "ipython",
    "version": 3
   },
   "file_extension": ".py",
   "mimetype": "text/x-python",
   "name": "python",
   "nbconvert_exporter": "python",
   "pygments_lexer": "ipython3",
   "version": "3.5.5"
  }
 },
 "nbformat": 4,
 "nbformat_minor": 2
}
