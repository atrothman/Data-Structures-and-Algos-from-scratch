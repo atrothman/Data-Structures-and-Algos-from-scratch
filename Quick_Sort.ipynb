{
 "cells": [
  {
   "cell_type": "markdown",
   "metadata": {},
   "source": [
    "# Quick Sort Algorithm"
   ]
  },
  {
   "cell_type": "code",
   "execution_count": 1,
   "metadata": {},
   "outputs": [],
   "source": [
    "def quick_sort(X):\n",
    "    \n",
    "    if(len(X)==1):\n",
    "        return(X)\n",
    "        \n",
    "    if(len(X)==2):\n",
    "        if(X[0]>X[1]):\n",
    "            X[0], X[1] = X[1], X[0]\n",
    "        return(X)\n",
    "    \n",
    "    if(len(X)>2):\n",
    "        pivot = X[0]\n",
    "        j=1\n",
    "        for i in range(1, len(X)):\n",
    "            if(X[i] < pivot):\n",
    "                X[i], X[j] = X[j], X[i]\n",
    "                j=j+1\n",
    "        \n",
    "        X[0], X[j-1] = X[j-1], X[0]\n",
    "        \n",
    "        if(j-1==0):\n",
    "            X[j:len(X)] = quick_sort(X[j:len(X)])\n",
    "        else:\n",
    "            if(j-1==len(X)-1):\n",
    "                X[0:j-1] = quick_sort(X[0:j-1])\n",
    "            else:\n",
    "                X[0:j-1] = quick_sort(X[0:j-1])\n",
    "                X[j:len(X)] = quick_sort(X[j:len(X)])\n",
    "        \n",
    "        return(X)"
   ]
  },
  {
   "cell_type": "code",
   "execution_count": 2,
   "metadata": {},
   "outputs": [
    {
     "data": {
      "text/plain": [
       "[-65, -2.5, -1, 0, 0, 2, 2.4, 3, 5, 5, 10]"
      ]
     },
     "execution_count": 2,
     "metadata": {},
     "output_type": "execute_result"
    }
   ],
   "source": [
    "X_test_1 = [2,5,3, 0, -1,5,2.4, -65, -2.5, 0, 10]\n",
    "quick_sort(X_test_1)"
   ]
  },
  {
   "cell_type": "code",
   "execution_count": 3,
   "metadata": {},
   "outputs": [
    {
     "data": {
      "text/plain": [
       "[-9, -8, -7, -6, -5, -4, -3, -2, -1, 0, 1, 2, 3, 4, 5]"
      ]
     },
     "execution_count": 3,
     "metadata": {},
     "output_type": "execute_result"
    }
   ],
   "source": [
    "X_test_2 = list(range(5,-10,-1))\n",
    "quick_sort(X_test_2)"
   ]
  },
  {
   "cell_type": "code",
   "execution_count": null,
   "metadata": {},
   "outputs": [],
   "source": []
  }
 ],
 "metadata": {
  "kernelspec": {
   "display_name": "Python 3",
   "language": "python",
   "name": "python3"
  },
  "language_info": {
   "codemirror_mode": {
    "name": "ipython",
    "version": 3
   },
   "file_extension": ".py",
   "mimetype": "text/x-python",
   "name": "python",
   "nbconvert_exporter": "python",
   "pygments_lexer": "ipython3",
   "version": "3.5.5"
  }
 },
 "nbformat": 4,
 "nbformat_minor": 2
}
