{
 "cells": [
  {
   "cell_type": "markdown",
   "metadata": {},
   "source": [
    "# Binary Search Algo\n",
    "#### by Andrew Rothman"
   ]
  },
  {
   "cell_type": "code",
   "execution_count": 1,
   "metadata": {},
   "outputs": [],
   "source": [
    "import math\n",
    "\n",
    "def merge_sort(X):\n",
    "    \n",
    "    if(len(X)==1):\n",
    "        return(X)\n",
    "        \n",
    "    if(len(X)==2):\n",
    "        if(X[0]>X[1]):\n",
    "            X[0], X[1] = X[1], X[0]\n",
    "        return(X)\n",
    "    \n",
    "    if(len(X)>2):\n",
    "        Left = merge_sort(X[0:len(X)//2])\n",
    "        Right = merge_sort(X[len(X)//2:len(X)])\n",
    "        X_sorted = len(X)*[None]\n",
    "        \n",
    "        L_count=0\n",
    "        R_count=0\n",
    "        for i in range(0, len(X_sorted)):\n",
    "            if(L_count==len(Left)):\n",
    "                X_sorted[i:len(X_sorted)] = Right[R_count:len(Right)]\n",
    "                break\n",
    "                #R_count = R_count+1\n",
    "            else:\n",
    "                if(R_count==len(Right)):\n",
    "                    X_sorted[i:len(X_sorted)] = Left[L_count:len(Left)]\n",
    "                    break\n",
    "                    #L_count = L_count+1\n",
    "                else:\n",
    "                    if(Left[L_count] < Right[R_count]):\n",
    "                        X_sorted[i] = Left[L_count]\n",
    "                        L_count = L_count+1\n",
    "                    else:\n",
    "                        X_sorted[i] = Right[R_count]\n",
    "                        R_count = R_count+1\n",
    "        \n",
    "        return(X_sorted)\n",
    "\n",
    "\n",
    "\n",
    "def binary_search(X, val):\n",
    "    \n",
    "    if(len(X)==1):\n",
    "        if(X[0]==val):\n",
    "            print('the array contains the value ' + str(val))\n",
    "        else:\n",
    "            print('NO, the array does not contain the value ' + str(val))\n",
    "    \n",
    "    if(len(X)==2):\n",
    "        if(X[0]==val or X[1]==val):\n",
    "            print('the array contains the value ' + str(val))\n",
    "        else:\n",
    "            print('NO, the array does not contain the value ' + str(val))\n",
    "        \n",
    "    if(len(X)>2):\n",
    "        current_indice = math.floor(len(X)/2)\n",
    "        if(X[current_indice]==val):\n",
    "            print('the array contains the value ' + str(val))\n",
    "        else:\n",
    "            if(X[current_indice]>val):\n",
    "                binary_search(X[0:current_indice], val)\n",
    "            else:\n",
    "                if(X[current_indice]<val):\n",
    "                    binary_search(X[(current_indice+1):len(X)], val)\n",
    "           \n",
    "                "
   ]
  },
  {
   "cell_type": "code",
   "execution_count": 2,
   "metadata": {},
   "outputs": [
    {
     "name": "stdout",
     "output_type": "stream",
     "text": [
      "[-65, -2.5, -1, 0, 0, 2, 2.4, 3, 5, 5, 10]\n"
     ]
    }
   ],
   "source": [
    "X_test_1 = [2, 5, 3, 0, -1, 5, 2.4, -65, -2.5, 0, 10]\n",
    "X_sorted = merge_sort(X_test_1)\n",
    "print(X_sorted)"
   ]
  },
  {
   "cell_type": "code",
   "execution_count": 3,
   "metadata": {},
   "outputs": [
    {
     "name": "stdout",
     "output_type": "stream",
     "text": [
      "the array contains the value 0\n"
     ]
    }
   ],
   "source": [
    "binary_search(X_sorted, 0)"
   ]
  },
  {
   "cell_type": "code",
   "execution_count": 4,
   "metadata": {},
   "outputs": [
    {
     "name": "stdout",
     "output_type": "stream",
     "text": [
      "NO, the array does not contain the value -64\n"
     ]
    }
   ],
   "source": [
    "binary_search(X_sorted, -64)"
   ]
  }
 ],
 "metadata": {
  "kernelspec": {
   "display_name": "Python 3",
   "language": "python",
   "name": "python3"
  },
  "language_info": {
   "codemirror_mode": {
    "name": "ipython",
    "version": 3
   },
   "file_extension": ".py",
   "mimetype": "text/x-python",
   "name": "python",
   "nbconvert_exporter": "python",
   "pygments_lexer": "ipython3",
   "version": "3.5.5"
  }
 },
 "nbformat": 4,
 "nbformat_minor": 2
}
